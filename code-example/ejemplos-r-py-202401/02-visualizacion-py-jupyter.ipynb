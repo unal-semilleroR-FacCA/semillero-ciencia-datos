{
 "cells": [
  {
   "cell_type": "markdown",
   "metadata": {},
   "source": [
    "# Importando datos con `pandas`"
   ]
  },
  {
   "cell_type": "code",
   "execution_count": 1,
   "metadata": {},
   "outputs": [
    {
     "data": {
      "text/html": [
       "<div>\n",
       "<style scoped>\n",
       "    .dataframe tbody tr th:only-of-type {\n",
       "        vertical-align: middle;\n",
       "    }\n",
       "\n",
       "    .dataframe tbody tr th {\n",
       "        vertical-align: top;\n",
       "    }\n",
       "\n",
       "    .dataframe thead th {\n",
       "        text-align: right;\n",
       "    }\n",
       "</style>\n",
       "<table border=\"1\" class=\"dataframe\">\n",
       "  <thead>\n",
       "    <tr style=\"text-align: right;\">\n",
       "      <th></th>\n",
       "      <th>year_es</th>\n",
       "      <th>mes</th>\n",
       "      <th>fuente_colocacion</th>\n",
       "      <th>tipo_productor</th>\n",
       "      <th>valor_inversion</th>\n",
       "      <th>departamento_inversion</th>\n",
       "      <th>municipio_inversion</th>\n",
       "      <th>mpio_posconflicto</th>\n",
       "      <th>plazo</th>\n",
       "      <th>linea_de_produccion</th>\n",
       "      <th>destino_de_credito</th>\n",
       "      <th>genero</th>\n",
       "      <th>latitud</th>\n",
       "      <th>longitud</th>\n",
       "    </tr>\n",
       "  </thead>\n",
       "  <tbody>\n",
       "    <tr>\n",
       "      <th>0</th>\n",
       "      <td>2024</td>\n",
       "      <td>3</td>\n",
       "      <td>REDESCUENTO</td>\n",
       "      <td>PEQUEÑO PPIB</td>\n",
       "      <td>22000000.0</td>\n",
       "      <td>PUTUMAYO</td>\n",
       "      <td>ORITO</td>\n",
       "      <td>S</td>\n",
       "      <td>84</td>\n",
       "      <td>SIEMBRAS (I)</td>\n",
       "      <td>141430 Plátano</td>\n",
       "      <td>H</td>\n",
       "      <td>0.696667</td>\n",
       "      <td>-76.874722</td>\n",
       "    </tr>\n",
       "    <tr>\n",
       "      <th>1</th>\n",
       "      <td>2024</td>\n",
       "      <td>3</td>\n",
       "      <td>REDESCUENTO</td>\n",
       "      <td>PEQUEÑO PPIB</td>\n",
       "      <td>17000000.0</td>\n",
       "      <td>SANTANDER</td>\n",
       "      <td>OIBA</td>\n",
       "      <td>N</td>\n",
       "      <td>81</td>\n",
       "      <td>SIEMBRAS (I)</td>\n",
       "      <td>141100 Café</td>\n",
       "      <td>H</td>\n",
       "      <td>6.300000</td>\n",
       "      <td>-73.250000</td>\n",
       "    </tr>\n",
       "    <tr>\n",
       "      <th>2</th>\n",
       "      <td>2024</td>\n",
       "      <td>3</td>\n",
       "      <td>REDESCUENTO</td>\n",
       "      <td>PEQUEÑO PPIB</td>\n",
       "      <td>4000000.0</td>\n",
       "      <td>HUILA</td>\n",
       "      <td>LA ARGENTINA</td>\n",
       "      <td>N</td>\n",
       "      <td>63</td>\n",
       "      <td>SIEMBRAS (I)</td>\n",
       "      <td>141100 Café</td>\n",
       "      <td>M</td>\n",
       "      <td>2.250000</td>\n",
       "      <td>-76.166667</td>\n",
       "    </tr>\n",
       "    <tr>\n",
       "      <th>3</th>\n",
       "      <td>2024</td>\n",
       "      <td>3</td>\n",
       "      <td>REDESCUENTO</td>\n",
       "      <td>PEQUEÑO PPIB</td>\n",
       "      <td>15000000.0</td>\n",
       "      <td>ANTIOQUIA</td>\n",
       "      <td>URRAO</td>\n",
       "      <td>S</td>\n",
       "      <td>36</td>\n",
       "      <td>SIEMBRAS (I)</td>\n",
       "      <td>151360 Lulo</td>\n",
       "      <td>H</td>\n",
       "      <td>6.333333</td>\n",
       "      <td>-76.416667</td>\n",
       "    </tr>\n",
       "    <tr>\n",
       "      <th>4</th>\n",
       "      <td>2024</td>\n",
       "      <td>3</td>\n",
       "      <td>REDESCUENTO</td>\n",
       "      <td>PEQUEÑO PPIB</td>\n",
       "      <td>31000000.0</td>\n",
       "      <td>META</td>\n",
       "      <td>GRANADA</td>\n",
       "      <td>N</td>\n",
       "      <td>24</td>\n",
       "      <td>SIEMBRAS (I)</td>\n",
       "      <td>141430 Plátano</td>\n",
       "      <td>H</td>\n",
       "      <td>3.538611</td>\n",
       "      <td>-73.700556</td>\n",
       "    </tr>\n",
       "  </tbody>\n",
       "</table>\n",
       "</div>"
      ],
      "text/plain": [
       "   year_es  mes fuente_colocacion tipo_productor  valor_inversion  \\\n",
       "0     2024    3       REDESCUENTO   PEQUEÑO PPIB       22000000.0   \n",
       "1     2024    3       REDESCUENTO   PEQUEÑO PPIB       17000000.0   \n",
       "2     2024    3       REDESCUENTO   PEQUEÑO PPIB        4000000.0   \n",
       "3     2024    3       REDESCUENTO   PEQUEÑO PPIB       15000000.0   \n",
       "4     2024    3       REDESCUENTO   PEQUEÑO PPIB       31000000.0   \n",
       "\n",
       "  departamento_inversion municipio_inversion mpio_posconflicto  plazo  \\\n",
       "0               PUTUMAYO               ORITO                 S     84   \n",
       "1              SANTANDER                OIBA                 N     81   \n",
       "2                  HUILA        LA ARGENTINA                 N     63   \n",
       "3              ANTIOQUIA               URRAO                 S     36   \n",
       "4                   META             GRANADA                 N     24   \n",
       "\n",
       "  linea_de_produccion destino_de_credito genero   latitud   longitud  \n",
       "0        SIEMBRAS (I)     141430 Plátano      H  0.696667 -76.874722  \n",
       "1        SIEMBRAS (I)        141100 Café      H  6.300000 -73.250000  \n",
       "2        SIEMBRAS (I)        141100 Café      M  2.250000 -76.166667  \n",
       "3        SIEMBRAS (I)        151360 Lulo      H  6.333333 -76.416667  \n",
       "4        SIEMBRAS (I)     141430 Plátano      H  3.538611 -73.700556  "
      ]
     },
     "execution_count": 1,
     "metadata": {},
     "output_type": "execute_result"
    }
   ],
   "source": [
    "import pandas as pd\n",
    "\n",
    "datos = pd.read_csv(\"datos/colocaciones_créditos_agropecuarios_2024.csv\")\n",
    "datos.head()"
   ]
  },
  {
   "cell_type": "markdown",
   "metadata": {},
   "source": [
    "# Ejemplo con `dtale`"
   ]
  },
  {
   "cell_type": "markdown",
   "metadata": {},
   "source": [
    "- Primero debemos instalar la biblioteca `dtale` con el siguiente código: `pip install dtale`"
   ]
  },
  {
   "cell_type": "markdown",
   "metadata": {},
   "source": [
    "- Después importamos la biblioteca."
   ]
  },
  {
   "cell_type": "code",
   "execution_count": 2,
   "metadata": {},
   "outputs": [],
   "source": [
    "import dtale"
   ]
  },
  {
   "cell_type": "markdown",
   "metadata": {},
   "source": [
    "- Lo único que necesitamos es pasar el método `show()` sobre nuestros datos."
   ]
  },
  {
   "cell_type": "code",
   "execution_count": null,
   "metadata": {},
   "outputs": [],
   "source": [
    "dtale.show(datos)"
   ]
  },
  {
   "cell_type": "markdown",
   "metadata": {},
   "source": [
    "# `dtale` en Google Colab"
   ]
  },
  {
   "cell_type": "markdown",
   "metadata": {},
   "source": [
    "- Primero debemos instalar las bibliotecas:"
   ]
  },
  {
   "cell_type": "code",
   "execution_count": null,
   "metadata": {},
   "outputs": [],
   "source": [
    "!pip install pandas\n",
    "!pip install dtale"
   ]
  },
  {
   "cell_type": "markdown",
   "metadata": {},
   "source": [
    "- Configruación adicional para ejecutar dentro de Google Colab:"
   ]
  },
  {
   "cell_type": "code",
   "execution_count": 5,
   "metadata": {},
   "outputs": [],
   "source": [
    "import dtale\n",
    "import dtale.app as dtale_app\n",
    "dtale_app.USE_COLAB = True"
   ]
  },
  {
   "cell_type": "markdown",
   "metadata": {},
   "source": [
    "- Ejecutamos el método `show` sobre nuestros datos:"
   ]
  },
  {
   "cell_type": "code",
   "execution_count": null,
   "metadata": {},
   "outputs": [],
   "source": [
    "dtale.show(datos)"
   ]
  }
 ],
 "metadata": {
  "kernelspec": {
   "display_name": "DATA-SCIENCE",
   "language": "python",
   "name": "python3"
  },
  "language_info": {
   "codemirror_mode": {
    "name": "ipython",
    "version": 3
   },
   "file_extension": ".py",
   "mimetype": "text/x-python",
   "name": "python",
   "nbconvert_exporter": "python",
   "pygments_lexer": "ipython3",
   "version": "3.12.3"
  }
 },
 "nbformat": 4,
 "nbformat_minor": 2
}
